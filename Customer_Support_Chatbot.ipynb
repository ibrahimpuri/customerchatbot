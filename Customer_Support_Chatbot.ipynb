{
 "cells": [
  {
   "cell_type": "markdown",
   "id": "5808eb74",
   "metadata": {},
   "source": [
    "# Customer Support Chatbot with ChatGPT, RAG, Gemini Pro API, and LangChain"
   ]
  },
  {
   "cell_type": "markdown",
   "id": "bdf7f339",
   "metadata": {},
   "source": [
    "\n",
    "## Introduction\n",
    "This Jupyter notebook demonstrates how to build a customer support chatbot using ChatGPT, Retrieval Augmented Generation (RAG), Gemini Pro API, and LangChain. The chatbot can handle customer queries, provide information, and escalate issues when necessary.\n"
   ]
  },
  {
   "cell_type": "markdown",
   "id": "7012bd0d",
   "metadata": {},
   "source": [
    "## Step 1: Setting Up the Environment"
   ]
  },
  {
   "cell_type": "markdown",
   "id": "8916cbdf",
   "metadata": {},
   "source": [
    "\n",
    "Ensure you have the necessary libraries installed. You might need `openai`, a retrieval library, and `langchain`.\n"
   ]
  },
  {
   "cell_type": "code",
   "execution_count": 1,
   "id": "35e813d8",
   "metadata": {},
   "outputs": [
    {
     "name": "stdout",
     "output_type": "stream",
     "text": [
      "Requirement already satisfied: openai in /Users/ibrahimpuri/customerchatbot/lib/python3.11/site-packages (1.30.2)\n",
      "Requirement already satisfied: langchain in /Users/ibrahimpuri/customerchatbot/lib/python3.11/site-packages (0.2.1)\n",
      "Requirement already satisfied: elasticsearch in /Users/ibrahimpuri/customerchatbot/lib/python3.11/site-packages (8.13.2)\n",
      "Requirement already satisfied: langchain_community in /Users/ibrahimpuri/customerchatbot/lib/python3.11/site-packages (0.2.1)\n",
      "Requirement already satisfied: anyio<5,>=3.5.0 in /Users/ibrahimpuri/customerchatbot/lib/python3.11/site-packages (from openai) (4.3.0)\n",
      "Requirement already satisfied: distro<2,>=1.7.0 in /Users/ibrahimpuri/customerchatbot/lib/python3.11/site-packages (from openai) (1.9.0)\n",
      "Requirement already satisfied: httpx<1,>=0.23.0 in /Users/ibrahimpuri/customerchatbot/lib/python3.11/site-packages (from openai) (0.27.0)\n",
      "Requirement already satisfied: pydantic<3,>=1.9.0 in /Users/ibrahimpuri/customerchatbot/lib/python3.11/site-packages (from openai) (2.7.1)\n",
      "Requirement already satisfied: sniffio in /Users/ibrahimpuri/customerchatbot/lib/python3.11/site-packages (from openai) (1.3.1)\n",
      "Requirement already satisfied: tqdm>4 in /Users/ibrahimpuri/customerchatbot/lib/python3.11/site-packages (from openai) (4.66.4)\n",
      "Requirement already satisfied: typing-extensions<5,>=4.7 in /Users/ibrahimpuri/customerchatbot/lib/python3.11/site-packages (from openai) (4.12.0)\n",
      "Requirement already satisfied: PyYAML>=5.3 in /Users/ibrahimpuri/customerchatbot/lib/python3.11/site-packages (from langchain) (6.0.1)\n",
      "Requirement already satisfied: SQLAlchemy<3,>=1.4 in /Users/ibrahimpuri/customerchatbot/lib/python3.11/site-packages (from langchain) (2.0.30)\n",
      "Requirement already satisfied: aiohttp<4.0.0,>=3.8.3 in /Users/ibrahimpuri/customerchatbot/lib/python3.11/site-packages (from langchain) (3.9.5)\n",
      "Requirement already satisfied: langchain-core<0.3.0,>=0.2.0 in /Users/ibrahimpuri/customerchatbot/lib/python3.11/site-packages (from langchain) (0.2.1)\n",
      "Requirement already satisfied: langchain-text-splitters<0.3.0,>=0.2.0 in /Users/ibrahimpuri/customerchatbot/lib/python3.11/site-packages (from langchain) (0.2.0)\n",
      "Requirement already satisfied: langsmith<0.2.0,>=0.1.17 in /Users/ibrahimpuri/customerchatbot/lib/python3.11/site-packages (from langchain) (0.1.63)\n",
      "Requirement already satisfied: numpy<2,>=1 in /Users/ibrahimpuri/customerchatbot/lib/python3.11/site-packages (from langchain) (1.26.4)\n",
      "Requirement already satisfied: requests<3,>=2 in /Users/ibrahimpuri/customerchatbot/lib/python3.11/site-packages (from langchain) (2.32.2)\n",
      "Requirement already satisfied: tenacity<9.0.0,>=8.1.0 in /Users/ibrahimpuri/customerchatbot/lib/python3.11/site-packages (from langchain) (8.3.0)\n",
      "Requirement already satisfied: elastic-transport<9,>=8.13 in /Users/ibrahimpuri/customerchatbot/lib/python3.11/site-packages (from elasticsearch) (8.13.0)\n",
      "Requirement already satisfied: dataclasses-json<0.7,>=0.5.7 in /Users/ibrahimpuri/customerchatbot/lib/python3.11/site-packages (from langchain_community) (0.6.6)\n",
      "Requirement already satisfied: aiosignal>=1.1.2 in /Users/ibrahimpuri/customerchatbot/lib/python3.11/site-packages (from aiohttp<4.0.0,>=3.8.3->langchain) (1.3.1)\n",
      "Requirement already satisfied: attrs>=17.3.0 in /Users/ibrahimpuri/customerchatbot/lib/python3.11/site-packages (from aiohttp<4.0.0,>=3.8.3->langchain) (23.2.0)\n",
      "Requirement already satisfied: frozenlist>=1.1.1 in /Users/ibrahimpuri/customerchatbot/lib/python3.11/site-packages (from aiohttp<4.0.0,>=3.8.3->langchain) (1.4.1)\n",
      "Requirement already satisfied: multidict<7.0,>=4.5 in /Users/ibrahimpuri/customerchatbot/lib/python3.11/site-packages (from aiohttp<4.0.0,>=3.8.3->langchain) (6.0.5)\n",
      "Requirement already satisfied: yarl<2.0,>=1.0 in /Users/ibrahimpuri/customerchatbot/lib/python3.11/site-packages (from aiohttp<4.0.0,>=3.8.3->langchain) (1.9.4)\n",
      "Requirement already satisfied: idna>=2.8 in /Users/ibrahimpuri/customerchatbot/lib/python3.11/site-packages (from anyio<5,>=3.5.0->openai) (3.7)\n",
      "Requirement already satisfied: marshmallow<4.0.0,>=3.18.0 in /Users/ibrahimpuri/customerchatbot/lib/python3.11/site-packages (from dataclasses-json<0.7,>=0.5.7->langchain_community) (3.21.2)\n",
      "Requirement already satisfied: typing-inspect<1,>=0.4.0 in /Users/ibrahimpuri/customerchatbot/lib/python3.11/site-packages (from dataclasses-json<0.7,>=0.5.7->langchain_community) (0.9.0)\n",
      "Requirement already satisfied: urllib3<3,>=1.26.2 in /Users/ibrahimpuri/customerchatbot/lib/python3.11/site-packages (from elastic-transport<9,>=8.13->elasticsearch) (2.2.1)\n",
      "Requirement already satisfied: certifi in /Users/ibrahimpuri/customerchatbot/lib/python3.11/site-packages (from elastic-transport<9,>=8.13->elasticsearch) (2024.2.2)\n",
      "Requirement already satisfied: httpcore==1.* in /Users/ibrahimpuri/customerchatbot/lib/python3.11/site-packages (from httpx<1,>=0.23.0->openai) (1.0.5)\n",
      "Requirement already satisfied: h11<0.15,>=0.13 in /Users/ibrahimpuri/customerchatbot/lib/python3.11/site-packages (from httpcore==1.*->httpx<1,>=0.23.0->openai) (0.14.0)\n",
      "Requirement already satisfied: jsonpatch<2.0,>=1.33 in /Users/ibrahimpuri/customerchatbot/lib/python3.11/site-packages (from langchain-core<0.3.0,>=0.2.0->langchain) (1.33)\n",
      "Requirement already satisfied: packaging<24.0,>=23.2 in /Users/ibrahimpuri/customerchatbot/lib/python3.11/site-packages (from langchain-core<0.3.0,>=0.2.0->langchain) (23.2)\n",
      "Requirement already satisfied: orjson<4.0.0,>=3.9.14 in /Users/ibrahimpuri/customerchatbot/lib/python3.11/site-packages (from langsmith<0.2.0,>=0.1.17->langchain) (3.10.3)\n",
      "Requirement already satisfied: annotated-types>=0.4.0 in /Users/ibrahimpuri/customerchatbot/lib/python3.11/site-packages (from pydantic<3,>=1.9.0->openai) (0.7.0)\n",
      "Requirement already satisfied: pydantic-core==2.18.2 in /Users/ibrahimpuri/customerchatbot/lib/python3.11/site-packages (from pydantic<3,>=1.9.0->openai) (2.18.2)\n",
      "Requirement already satisfied: charset-normalizer<4,>=2 in /Users/ibrahimpuri/customerchatbot/lib/python3.11/site-packages (from requests<3,>=2->langchain) (3.3.2)\n",
      "Requirement already satisfied: jsonpointer>=1.9 in /Users/ibrahimpuri/customerchatbot/lib/python3.11/site-packages (from jsonpatch<2.0,>=1.33->langchain-core<0.3.0,>=0.2.0->langchain) (2.4)\n",
      "Requirement already satisfied: mypy-extensions>=0.3.0 in /Users/ibrahimpuri/customerchatbot/lib/python3.11/site-packages (from typing-inspect<1,>=0.4.0->dataclasses-json<0.7,>=0.5.7->langchain_community) (1.0.0)\n"
     ]
    }
   ],
   "source": [
    "\n",
    "!pip install openai langchain elasticsearch langchain_community\n"
   ]
  },
  {
   "cell_type": "markdown",
   "id": "468d225c",
   "metadata": {},
   "source": [
    "## Step 2: Initialize the Environment"
   ]
  },
  {
   "cell_type": "markdown",
   "id": "8a68ff3c",
   "metadata": {},
   "source": [
    "\n",
    "Set up your API keys and initialize LangChain and Elasticsearch.\n"
   ]
  },
  {
   "cell_type": "code",
   "execution_count": 2,
   "id": "3d9b78fe",
   "metadata": {},
   "outputs": [
    {
     "name": "stderr",
     "output_type": "stream",
     "text": [
      "/Users/ibrahimpuri/customerchatbot/lib/python3.11/site-packages/langchain_core/_api/deprecation.py:119: LangChainDeprecationWarning: The class `OpenAI` was deprecated in LangChain 0.0.10 and will be removed in 0.3.0. An updated version of the class exists in the langchain-openai package and should be used instead. To use it run `pip install -U langchain-openai` and import as `from langchain_openai import OpenAI`.\n",
      "  warn_deprecated(\n",
      "/Users/ibrahimpuri/customerchatbot/lib/python3.11/site-packages/langchain_core/_api/deprecation.py:119: LangChainDeprecationWarning: The class `LLMChain` was deprecated in LangChain 0.1.17 and will be removed in 0.3.0. Use RunnableSequence, e.g., `prompt | llm` instead.\n",
      "  warn_deprecated(\n"
     ]
    }
   ],
   "source": [
    "import openai\n",
    "from langchain.llms import OpenAI\n",
    "from langchain.chains import LLMChain\n",
    "from langchain.prompts import PromptTemplate\n",
    "from elasticsearch import Elasticsearch\n",
    "\n",
    "# Set your API keys\n",
    "openai.api_key = 'your-gemini-pro-api-key'\n",
    "\n",
    "# Initialize LLMChain\n",
    "llm = OpenAI(openai_api_key=openai.api_key)\n",
    "prompt = PromptTemplate(\n",
    "    input_variables=[\"query\"],\n",
    "    template=\"Based on the following information: {context}, answer the question: {query}\"\n",
    ")\n",
    "chain = LLMChain(llm=llm, prompt=prompt)\n",
    "\n",
    "# Initialize Elasticsearch\n",
    "es = Elasticsearch(hosts=['http://localhost:8888'])"
   ]
  },
  {
   "cell_type": "markdown",
   "id": "2bb3b438",
   "metadata": {},
   "source": [
    "## Step 3: Define Retrieval Augmented Generation (RAG)"
   ]
  },
  {
   "cell_type": "markdown",
   "id": "afad6759",
   "metadata": {},
   "source": [
    "\n",
    "Implement a simple retrieval function to fetch relevant information from a knowledge base.\n"
   ]
  },
  {
   "cell_type": "code",
   "execution_count": 3,
   "id": "6c66417c",
   "metadata": {},
   "outputs": [],
   "source": [
    "\n",
    "def retrieve_documents(query):\n",
    "    # Retrieve relevant documents from Elasticsearch\n",
    "    res = es.search(index=\"netsolchatbot\", body={\"query\": {\"match\": {\"content\": query}}})\n",
    "    documents = [hit[\"_source\"][\"content\"] for hit in res['hits']['hits']]\n",
    "    return \" \".join(documents)\n"
   ]
  },
  {
   "cell_type": "markdown",
   "id": "ee0ab9bd",
   "metadata": {},
   "source": [
    "## Step 4: Generate Responses with ChatGPT"
   ]
  },
  {
   "cell_type": "markdown",
   "id": "3d6c029c",
   "metadata": {},
   "source": [
    "\n",
    "Use the retrieved information to generate responses using ChatGPT.\n"
   ]
  },
  {
   "cell_type": "code",
   "execution_count": 4,
   "id": "e8912855",
   "metadata": {},
   "outputs": [],
   "source": [
    "\n",
    "def generate_response(query):\n",
    "    # Retrieve context\n",
    "    context = retrieve_documents(query)\n",
    "    \n",
    "    # Define a prompt\n",
    "    prompt = f\"Based on the following information: {context}, answer the question: {query}\"\n",
    "\n",
    "    # Generate a response using ChatGPT\n",
    "    response = openai.Completion.create(\n",
    "        engine=\"gpt-3.5-turbo\",\n",
    "        prompt=prompt,\n",
    "        max_tokens=500\n",
    "    )\n",
    "    \n",
    "    return response.choices[0].text.strip()\n"
   ]
  },
  {
   "cell_type": "markdown",
   "id": "70550d84",
   "metadata": {},
   "source": [
    "## Step 5: Implementing LangChain for Workflow"
   ]
  },
  {
   "cell_type": "markdown",
   "id": "51678796",
   "metadata": {},
   "source": [
    "\n",
    "Define tasks and workflows for handling more complex queries.\n"
   ]
  },
  {
   "cell_type": "code",
   "execution_count": 5,
   "id": "b080e5c2",
   "metadata": {},
   "outputs": [],
   "source": [
    "\n",
    "def refine_response(response):\n",
    "    # Define a workflow\n",
    "    workflow = lc.Workflow()\n",
    "\n",
    "    # Add tasks to the workflow\n",
    "    workflow.add_task('Summarize', params={'text': response, 'max_length': 100})\n",
    "    workflow.add_task('GrammarCheck', params={'text': response})\n",
    "    workflow.add_task('Enhance', params={'text': response, 'style': 'formal'})\n",
    "\n",
    "    # Execute the workflow\n",
    "    result = workflow.execute()\n",
    "\n",
    "    return result\n"
   ]
  },
  {
   "cell_type": "markdown",
   "id": "2c0a8d8e",
   "metadata": {},
   "source": [
    "## Step 6: Putting It All Together"
   ]
  },
  {
   "cell_type": "markdown",
   "id": "e521d00d",
   "metadata": {},
   "source": [
    "\n",
    "Create a function to handle customer queries end-to-end.\n"
   ]
  },
  {
   "cell_type": "markdown",
   "id": "0e9b1375",
   "metadata": {},
   "source": [
    "\n",
    "## Conclusion\n",
    "\n",
    "This notebook has demonstrated how to build a customer support chatbot using ChatGPT, RAG, Gemini Pro API, and LangChain. By combining these technologies, you can create an advanced tool to handle customer queries efficiently.\n"
   ]
  },
  {
   "cell_type": "raw",
   "id": "3ec352b4-2690-47f7-9299-492ee8a222de",
   "metadata": {
    "vscode": {
     "languageId": "raw"
    }
   },
   "source": [
    "import openai\n",
    "from langchain.llms import OpenAI as LangchainOpenAI\n",
    "from langchain.prompts import PromptTemplate\n",
    "\n",
    "# Set your API key\n",
    "openai.api_key = 'Your OpenAI api_key'\n",
    "\n",
    "# Initialize OpenAI\n",
    "llm = LangchainOpenAI(openai_api_key=openai.api_key)\n",
    "\n",
    "# Define the prompt template\n",
    "prompt = PromptTemplate(\n",
    "    input_variables=[\"query\"],\n",
    "    template=\"Based on the following information, answer the question: {query}\"\n",
    ")\n",
    "\n",
    "# Define a function to generate responses\n",
    "def generate_response(query):\n",
    "    response = prompt.format(query=query) | llm()\n",
    "    return response.strip()\n",
    "\n",
    "# Define a function to refine the response (placeholder)\n",
    "def refine_response(response):\n",
    "    # Placeholder function for refining the response\n",
    "    # You can implement your own logic here based on your requirements\n",
    "    return response\n",
    "\n",
    "# Define the customer support chatbot function\n",
    "def customer_support_bot(query):\n",
    "    # Generate initial response\n",
    "    response = generate_response(query)\n",
    "    print(\"Initial Response:\\n\", response)\n",
    "\n",
    "    # Refine the response\n",
    "    refined_response = refine_response(response)\n",
    "    print(\"Refined Response:\\n\", refined_response)\n",
    "\n",
    "    return refined_response\n",
    "\n",
    "# Example usage\n",
    "while True:\n",
    "    query = input(\"Customer: \")\n",
    "    if query.lower() == 'exit':\n",
    "        break\n",
    "    final_response = customer_support_bot(query)\n",
    "    print(\"Assistant:\", final_response)"
   ]
  },
  {
   "cell_type": "code",
   "execution_count": null,
   "id": "73dc163a-8e30-46a5-9a90-4d118122f245",
   "metadata": {},
   "outputs": [],
   "source": []
  }
 ],
 "metadata": {
  "kernelspec": {
   "display_name": "Python 3 (ipykernel)",
   "language": "python",
   "name": "python3"
  },
  "language_info": {
   "codemirror_mode": {
    "name": "ipython",
    "version": 3
   },
   "file_extension": ".py",
   "mimetype": "text/x-python",
   "name": "python",
   "nbconvert_exporter": "python",
   "pygments_lexer": "ipython3",
   "version": "3.11.7"
  }
 },
 "nbformat": 4,
 "nbformat_minor": 5
}
